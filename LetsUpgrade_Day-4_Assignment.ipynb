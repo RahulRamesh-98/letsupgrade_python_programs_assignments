{
 "cells": [
  {
   "cell_type": "markdown",
   "metadata": {},
   "source": [
    "# Write down a program in Python for Opening a File and Writing \\\" I Love LetsUpgrade\\\"  And close it, and read it back again, and then append some data to it and close it \""
   ]
  },
  {
   "cell_type": "code",
   "execution_count": 1,
   "metadata": {},
   "outputs": [
    {
     "name": "stdout",
     "output_type": "stream",
     "text": [
      "Hi,I'm Rahul Ramesh \n"
     ]
    }
   ],
   "source": [
    "openfile=open(\"fileopen.txt\",'w')\n",
    "result=openfile.write(\"Hi,I'm Rahul Ramesh \")\n",
    "openfile.close()\n",
    "openfile=open(\"fileopen.txt\",'r')\n",
    "show=openfile.read()\n",
    "openfile.close()\n",
    "print(show)"
   ]
  },
  {
   "cell_type": "code",
   "execution_count": 2,
   "metadata": {},
   "outputs": [
    {
     "name": "stdout",
     "output_type": "stream",
     "text": [
      "Hi,I'm Rahul Ramesh  Beginner to this programming field.\n"
     ]
    }
   ],
   "source": [
    "openfile=open(\"fileopen.txt\",'a+')\n",
    "add=openfile.write(\" Beginner to this programming field.\")\n",
    "openfile.close()\n",
    "openfile=open(\"fileopen.txt\",'r')\n",
    "showing=openfile.read()\n",
    "openfile.close()\n",
    "print(showing)"
   ]
  },
  {
   "cell_type": "markdown",
   "metadata": {},
   "source": [
    "# Write a function which can return a Factorial of any numbers as INT, given in the argument"
   ]
  },
  {
   "cell_type": "code",
   "execution_count": 4,
   "metadata": {},
   "outputs": [
    {
     "name": "stdout",
     "output_type": "stream",
     "text": [
      "Enter The Number of which you want to find factorial:-5\n",
      "120\n"
     ]
    }
   ],
   "source": [
    "def fact (n):\n",
    "  ans=1\n",
    "  for i in range(1,n+1):\n",
    "    ans=ans*i\n",
    "  return ans\n",
    "\n",
    "number=int(input(\"Enter The Number of which you want to find factorial:-\"))\n",
    "result=fact(number)\n",
    "print(result)"
   ]
  },
  {
   "cell_type": "code",
   "execution_count": null,
   "metadata": {},
   "outputs": [],
   "source": []
  }
 ],
 "metadata": {
  "kernelspec": {
   "display_name": "Python 3",
   "language": "python",
   "name": "python3"
  },
  "language_info": {
   "codemirror_mode": {
    "name": "ipython",
    "version": 3
   },
   "file_extension": ".py",
   "mimetype": "text/x-python",
   "name": "python",
   "nbconvert_exporter": "python",
   "pygments_lexer": "ipython3",
   "version": "3.8.5"
  }
 },
 "nbformat": 4,
 "nbformat_minor": 4
}
